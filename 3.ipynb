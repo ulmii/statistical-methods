{
 "cells": [
  {
   "cell_type": "code",
   "execution_count": 1,
   "metadata": {},
   "outputs": [],
   "source": [
    "import numpy as np\n",
    "import matplotlib.pyplot as plt\n",
    "import concurrent.futures\n",
    "import threading\n",
    "import time\n",
    "from timeit import default_timer as timer\n",
    "from typing import Callable\n",
    "plt.rcParams['figure.figsize']=(20, 10)"
   ]
  },
  {
   "cell_type": "markdown",
   "metadata": {},
   "source": [
    "# Statystyka - Zestaw 3\n",
    "### Autor: Konrad Ulman"
   ]
  },
  {
   "cell_type": "code",
   "execution_count": 28,
   "metadata": {
    "scrolled": false
   },
   "outputs": [],
   "source": [
    "lock = threading.Lock()\n",
    "queue_pos = 0\n",
    "\n",
    "class Task:\n",
    "    def __init__(self, id, start_queue, start, end_queue = None, end = None):\n",
    "        self.id = id\n",
    "        self.start_queue = start_queue\n",
    "        self.end_queue = end_queue\n",
    "        self.start = start\n",
    "        self.end = end\n",
    "        \n",
    "    def recalculate_time(self, time):\n",
    "        self.start = self.start - time\n",
    "        self.end = self.end - time\n",
    "        return self\n",
    "    \n",
    "    def __str__(self):\n",
    "        return f'Task id is {self.id}'\n",
    "\n",
    "    def __repr__(self):\n",
    "        return str(self.__dict__)\n",
    "    \n",
    "def producer(task_size: int, delay: float) -> list:\n",
    "    global queue_pos\n",
    "    \n",
    "    for id in np.arange(task_size):\n",
    "        time.sleep(delay)\n",
    "        with lock:\n",
    "            queue_pos += 1\n",
    "            q_pos = queue_pos\n",
    "        \n",
    "        yield Task(id, q_pos, timer())\n",
    "    \n",
    "def consume(delay: float, task: Task) -> Task:\n",
    "    global queue_pos\n",
    "    \n",
    "    time.sleep(delay)\n",
    "    with lock:\n",
    "        task.end_queue = queue_pos\n",
    "        queue_pos -= 1\n",
    "    \n",
    "    task.end = timer()\n",
    "    return task\n",
    "    \n",
    "def consumer(delay: float, func: Callable, *args) -> list:\n",
    "    start = timer()\n",
    "    with concurrent.futures.ThreadPoolExecutor(max_workers=1) as executor:\n",
    "        producer_logs = []\n",
    "        futures = []\n",
    "        done_tasks = []\n",
    "        for task in func(*args):\n",
    "            futures.append(executor.submit(consume, delay, task))\n",
    "            \n",
    "        recalculate = lambda r: r.recalculate_time(start)\n",
    "        return sorted([recalculate(future.result()) for future in concurrent.futures.as_completed(futures)], key=lambda x: x.id)"
   ]
  },
  {
   "cell_type": "code",
   "execution_count": 29,
   "metadata": {},
   "outputs": [],
   "source": [
    "def extract_queues(tasks: list) -> list:\n",
    "    start_queue = []\n",
    "    end_queue = []\n",
    "    for task in tasks:\n",
    "        start_queue.append(task.start_queue)\n",
    "        end_queue.append(task.end_queue)\n",
    "    return start_queue, end_queue\n",
    "\n",
    "def extract_points(tasks: list) -> list:\n",
    "    start = []\n",
    "    end = []\n",
    "    for task in tasks:\n",
    "        start.append(task.start)\n",
    "        end.append(task.end)\n",
    "    return start, end"
   ]
  },
  {
   "cell_type": "code",
   "execution_count": 30,
   "metadata": {},
   "outputs": [
    {
     "name": "stdout",
     "output_type": "stream",
     "text": [
      "[5, 9, 8, 7, 6, 5, 4, 3, 2, 1]\n",
      "[0.061985699998331256, 0.11247259999800008, 0.16300760000012815, 0.21356009999726666, 0.26410109999778797, 0.3146505000004254, 0.3651852999973926, 0.41573409999909927, 0.46626370000012685, 0.5168192999990424]\n"
     ]
    },
    {
     "data": {
      "image/png": "[encoded data removed]",
      "text/plain": [
       "<Figure size 1440x720 with 1 Axes>"
      ]
     },
     "metadata": {
      "needs_background": "light"
     },
     "output_type": "display_data"
    }
   ],
   "source": [
    "producer_delay = 1/100\n",
    "consumer_delay = 1/20\n",
    "num_of_tasks = 10\n",
    "\n",
    "tasks = consumer(consumer_delay, producer, num_of_tasks, producer_delay)\n",
    "\n",
    "start_queue, end_queue = extract_queues(tasks)\n",
    "start_times, end_times = extract_points(tasks)\n",
    "\n",
    "plt.scatter(start_times, start_queue, color='r', label='$\\pi_j$')\n",
    "plt.scatter(end_times, end_queue, color='b', label='$\\pi_j$')\n",
    "\n",
    "plt.show()"
   ]
  }
 ],
 "metadata": {
  "kernelspec": {
   "display_name": "Python 3",
   "language": "python",
   "name": "python3"
  },
  "language_info": {
   "codemirror_mode": {
    "name": "ipython",
    "version": 3
   },
   "file_extension": ".py",
   "mimetype": "text/x-python",
   "name": "python",
   "nbconvert_exporter": "python",
   "pygments_lexer": "ipython3",
   "version": "3.6.9"
  }
 },
 "nbformat": 4,
 "nbformat_minor": 4
}
