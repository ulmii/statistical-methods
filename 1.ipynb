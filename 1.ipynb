{
 "cells": [
  {
   "cell_type": "code",
   "execution_count": 1,
   "metadata": {},
   "outputs": [],
   "source": [
    "import numpy as np\n",
    "import matplotlib.pyplot as plt"
   ]
  },
  {
   "cell_type": "markdown",
   "metadata": {},
   "source": [
    "# Statystyka - Zestaw 1\n",
    "### Autor: Konrad Ulman"
   ]
  },
  {
   "cell_type": "markdown",
   "metadata": {},
   "source": [
    "## Problem A1\n",
    "\n",
    "### Implementacja generatora liczb losowych z rozkładu normalnego  $ N(\\mu, \\sigma^2)$ metodą polarną\n",
    "\n",
    "$ \\mu = 0 $ - wartość oczekiwana, \n",
    "\n",
    "$ \\sigma^2 = 1 $ - wariancja \n",
    "\n",
    "\n",
    "    \n"
   ]
  },
  {
   "cell_type": "code",
   "execution_count": 2,
   "metadata": {},
   "outputs": [],
   "source": [
    "N = 1000000\n",
    "bins = 1000"
   ]
  },
  {
   "cell_type": "code",
   "execution_count": 3,
   "metadata": {},
   "outputs": [],
   "source": [
    "def polar(n = 1):\n",
    "    \"\"\"\n",
    "    A1 - generator liczb losowych metoda polarna\n",
    "    \"\"\"\n",
    "    u1 = np.random.rand(n)\n",
    "    u2 = np.random.rand(n)\n",
    "\n",
    "    r = np.sqrt(-2*np.log(u1))\n",
    "    x = np.cos(2*np.pi*u2)\n",
    "    y = np.sin(2*np.pi*u2)\n",
    "    z1 = r*x\n",
    "    z2 = r*y\n",
    "    \n",
    "    return z1, z2"
   ]
  },
  {
   "cell_type": "markdown",
   "metadata": {},
   "source": [
    "### Histogram i porównanie ze wzorem analitycznym\n",
    "\n",
    "\\begin{equation}\n",
    "  f(y) = \\dfrac{1}{\\sqrt{2 \\pi \\sigma^2}} e^{- \\dfrac{(y - \\mu)^2}{2\\sigma^2}}\n",
    "\\end{equation}"
   ]
  },
  {
   "cell_type": "code",
   "execution_count": 4,
   "metadata": {},
   "outputs": [
    {
     "data": {
      "image/png": "[encoded data removed]",
      "text/plain": [
       "<Figure size 432x288 with 2 Axes>"
      ]
     },
     "metadata": {
      "needs_background": "light"
     },
     "output_type": "display_data"
    }
   ],
   "source": [
    "fig, axs = plt.subplots(1, 2, sharey=True, tight_layout=True)\n",
    "\n",
    "axs[0].hist(np.random.normal(size=N), density=True, bins=bins)\n",
    "axs[0].title.set_text('Gauss')\n",
    "\n",
    "axs[1].hist(polar(N), density=True, bins=bins)\n",
    "axs[1].title.set_text('Polar')\n",
    "\n",
    "plt.xlim(-4.5, 4.5)\n",
    "plt.ylim(0, 0.65)\n",
    "\n",
    "plt.show()"
   ]
  },
  {
   "cell_type": "markdown",
   "metadata": {},
   "source": [
    "## Problem A2\n",
    "\n",
    "### Implementacja generatora liczb losowych z rozkładu Cauchy'ego  $ C(y_0, \\gamma)$, metodą odwróconej dystrybuanty\n",
    "\n",
    "\\begin{equation}\n",
    "  f(y) = \\dfrac{1}{ \\pi \\gamma [ 1 + ( \\dfrac{y - y_0}{\\gamma} )^2 ]}, y \\in (-\\infty, \\infty)\n",
    "\\end{equation}\n"
   ]
  },
  {
   "cell_type": "code",
   "execution_count": 5,
   "metadata": {},
   "outputs": [],
   "source": [
    "def cauchy(n, y = 0, scale = 1):\n",
    "    return  ( (1 / np.pi) * ( scale / (  ( ( (np.random.rand(n)) - y )**2 ) + ( scale**2 ) ) ) ) "
   ]
  },
  {
   "cell_type": "markdown",
   "metadata": {},
   "source": [
    "### Histogram i porównanie ze wzorem analitycznym dla różnych $ y_0, \\gamma $"
   ]
  },
  {
   "cell_type": "code",
   "execution_count": 6,
   "metadata": {},
   "outputs": [
    {
     "data": {
      "image/png": "[encoded data removed]",
      "text/plain": [
       "<Figure size 432x288 with 2 Axes>"
      ]
     },
     "metadata": {
      "needs_background": "light"
     },
     "output_type": "display_data"
    }
   ],
   "source": [
    "fig, axs = plt.subplots(1, 2, sharey=True, tight_layout=True)\n",
    "\n",
    "axs[0].hist(np.random.normal(size=N), density=True, bins=bins)\n",
    "axs[0].title.set_text('Gauss')\n",
    "\n",
    "\n",
    "s = cauchy(N, 0, 0.5)\n",
    "axs[1].hist(s[(s>-4.5) & (s<4.5)] , density=True, bins=bins)\n",
    "axs[1].title.set_text('Cauchy')\n",
    "\n",
    "plt.plot()\n",
    "plt.xlim(-4.5, 4.5)\n",
    "plt.ylim(0, 0.65)\n",
    "\n",
    "plt.show()"
   ]
  },
  {
   "cell_type": "markdown",
   "metadata": {},
   "source": [
    "## Problem B\n",
    "\n",
    "### Ruina gracza dla 2 graczy A, B\n",
    "\n",
    "### Kapitały początkowe A,B:\n",
    "$ a = 50; b = 50 $"
   ]
  },
  {
   "cell_type": "code",
   "execution_count": 7,
   "metadata": {},
   "outputs": [],
   "source": [
    "def gamblers_ruin(number_of_games, a_balance, b_balance, prob ):\n",
    "    wins = [False] * number_of_games\n",
    "    \n",
    "    for i in range(number_of_games):\n",
    "        p1b = a_balance\n",
    "        p2b = b_balance\n",
    "\n",
    "        # Play until p1 or p2 is getting ruined\n",
    "        while p1b > 0 and p2b > 0:\n",
    "            p1_win = np.random.uniform(0, 1) < prob\n",
    "\n",
    "            p1b = p1b + 1 if p1_win else p1b - 1\n",
    "\n",
    "            p2b = p2b - 1 if p1_win else p2b + 1\n",
    "\n",
    "        # Set to True, if p1 still not ruined        \n",
    "        wins[i] = p1b > 0\n",
    "        \n",
    "    return sum(wins)"
   ]
  },
  {
   "cell_type": "code",
   "execution_count": 8,
   "metadata": {},
   "outputs": [],
   "source": [
    "def print_stats(number_of_games, a_wins):\n",
    "    print(\"Liczba rozgrywek wygranych przez A: \", a_wins)\n",
    "    print(\"Liczba rozgrywek wygranych przez B: \", number_of_games - a_wins)\n",
    "    print(\"Prawdopodobieństwo wygrania przez A: \", prob)\n",
    "    print(\"Ułamek rozgrywek wygranych przez A: \", a_wins/number_of_games)\n",
    "    print(\"Ułamek rozgrywek wygranych przez B: \", 1 - a_wins/number_of_games)"
   ]
  },
  {
   "cell_type": "code",
   "execution_count": 9,
   "metadata": {},
   "outputs": [
    {
     "name": "stdout",
     "output_type": "stream",
     "text": [
      "Liczba rozgrywek wygranych przez A:  507\n",
      "Liczba rozgrywek wygranych przez B:  493\n",
      "Prawdopodobieństwo wygrania przez A: 0.5\n",
      "Ułamek rozgrywek wygranych przez A:  0.507\n",
      "Ułamek rozgrywek wygranych przez B:  0.493\n"
     ]
    }
   ],
   "source": [
    "number_of_games = 1000\n",
    "\n",
    "prob = 0.5\n",
    "a_wins = gamblers_ruin(number_of_games, 50, 50, prob)\n",
    "\n",
    "print_stats(number_of_games, a_wins)"
   ]
  },
  {
   "cell_type": "markdown",
   "metadata": {},
   "source": [
    "## Problem C\n",
    "\n",
    "### Ruina gracza dla 2 graczy A, B\n",
    "\n",
    "$ a + b = 100 $"
   ]
  },
  {
   "cell_type": "code",
   "execution_count": null,
   "metadata": {},
   "outputs": [],
   "source": []
  }
 ],
 "metadata": {
  "kernelspec": {
   "display_name": "Python 3",
   "language": "python",
   "name": "python3"
  },
  "language_info": {
   "codemirror_mode": {
    "name": "ipython",
    "version": 3
   },
   "file_extension": ".py",
   "mimetype": "text/x-python",
   "name": "python",
   "nbconvert_exporter": "python",
   "pygments_lexer": "ipython3",
   "version": "3.6.9"
  }
 },
 "nbformat": 4,
 "nbformat_minor": 4
}
